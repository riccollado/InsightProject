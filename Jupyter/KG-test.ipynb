{
 "cells": [
  {
   "cell_type": "code",
   "execution_count": 1,
   "metadata": {},
   "outputs": [],
   "source": [
    "import numpy as np\n",
    "from scipy.stats import norm"
   ]
  },
  {
   "cell_type": "code",
   "execution_count": 2,
   "metadata": {},
   "outputs": [],
   "source": [
    "def f_func(z):\n",
    "    return norm.pdf(z) + z*norm.cdf(z)\n",
    "\n",
    "# Here we have to remember that x indexing goes from 1 to M\n",
    "def sigma(S, x, lambda_):\n",
    "    M = S.shape[0]\n",
    "    e_x = np.zeros([M,1])\n",
    "    e_x[x-1] = 1\n",
    "    \n",
    "    return np.dot(S, e_x)/np.sqrt(lambda_[x-1]+S[x-1][x-1])"
   ]
  },
  {
   "cell_type": "markdown",
   "metadata": {},
   "source": [
    "### Algorithm 1"
   ]
  },
  {
   "cell_type": "code",
   "execution_count": 3,
   "metadata": {},
   "outputs": [],
   "source": [
    "def algorithm_1 (a, b):\n",
    "    M = len(a)\n",
    "    c = []\n",
    "    A = []\n",
    "    \n",
    "    # Initialization\n",
    "    c.append(-np.inf)\n",
    "    c.append(np.inf)\n",
    "    A.append(1)\n",
    "    loop_done=False\n",
    "    \n",
    "    # Main loop\n",
    "    for i in range(1, M):\n",
    "        c.append(np.inf)\n",
    "\n",
    "        while loop_done == False:\n",
    "            j = A[len(A)-1]\n",
    "\n",
    "            c[j] = (a[j-1]-a[i+1-1])/(b[i+1-1]-b[j-1])\n",
    "\n",
    "            if len(A)!=1 and c[j]<=c[A[len(A)-1-1]]:\n",
    "                A.pop()\n",
    "                loop_done = False\n",
    "            else:\n",
    "                loop_done = True\n",
    "        A.append(i+1)\n",
    "        loop_done = False\n",
    "    \n",
    "    return c, A"
   ]
  },
  {
   "cell_type": "markdown",
   "metadata": {},
   "source": [
    "### KG-Algorithm"
   ]
  },
  {
   "cell_type": "code",
   "execution_count": 4,
   "metadata": {},
   "outputs": [],
   "source": [
    "def KG_Alg(mu, S, lambda_):\n",
    "    M = S.shape[0]\n",
    "    xx = -1\n",
    "    vv = -np.inf\n",
    "    L=[]\n",
    "    for x in range(1,M):\n",
    "        a = list(mu)\n",
    "        b = list(sigma(S, x, lambda_)[:,0])\n",
    "\n",
    "\n",
    "        # Lexicographically sort a and b (with b first)\n",
    "        data = list(zip(a,b))\n",
    "        data.sort(key=lambda pair : (pair[1], pair[0]))\n",
    "        a, b = (list(t) for t in zip(*data))\n",
    "\n",
    "        for i in range(1, M-1):\n",
    "            if b[i-1]==b[i+1-1]:\n",
    "                # Remove entry i-1 from data pairs sequences\n",
    "                del(data[i-1])\n",
    "                del(b[i-1])\n",
    "                del(a[i-1])\n",
    "        # Use Algorithm 1 to obtain c and A \n",
    "        c, A = algorithm_1 (a, b)\n",
    "\n",
    "        # Obtain restricions of a, b, c to \n",
    "        # indexes from A (we have to adjust\n",
    "        # due to the index disparity of c, a\n",
    "        # starting from 1 but a, b start from 0)\n",
    "        # From now on a, b, c, A have the same index set!!!\n",
    "        a = [a[j-1] for j in A]\n",
    "        b = [b[j-1] for j in A]\n",
    "        c = [c[j] for j in A]\n",
    "        M = len(A)\n",
    "\n",
    "        v = np.log(np.sum([(b[j+1]-b[j])*f_func(-np.abs(c[j])) for j in range(0,M-1)]))\n",
    "\n",
    "        #Debug\n",
    "        print(\"{}: {}\".format(x,v))\n",
    "        L.append(v)\n",
    "\n",
    "        if x==1 or v>vv:\n",
    "            vv = v\n",
    "            xx = x\n",
    "    return xx-1, vv"
   ]
  },
  {
   "cell_type": "code",
   "execution_count": 5,
   "metadata": {},
   "outputs": [],
   "source": [
    "def KG_single(mu, S, lambda_, x):\n",
    "    M = S.shape[0]\n",
    "    a = list(mu)\n",
    "    b = list(sigma(S, x, lambda_)[:,0])\n",
    "\n",
    "    # Lexicographically sort a and b (with b first)\n",
    "    data = list(zip(a,b))\n",
    "    data.sort(key=lambda pair : (pair[1], pair[0]))\n",
    "    a, b = (list(t) for t in zip(*data))\n",
    "\n",
    "    for i in range(1, M-1):\n",
    "        if b[i-1]==b[i+1-1]:\n",
    "            # Remove entry i-1 from data\n",
    "            #pairs sequences\n",
    "            del(data[i-1])\n",
    "            del(b[i-1])\n",
    "            del(a[i-1])\n",
    "    # Use Algorithm 1 to obtain c and A \n",
    "    c, A = algorithm_1(a, b)\n",
    "\n",
    "    # Obtain restricions of a, b, c to \n",
    "    # indexes from A (we have to adjust\n",
    "    # due to the index disparity of c, a\n",
    "    # starting from 1 but a, b start from 0)\n",
    "    # From now on a, b, c, A have the same index set!!!\n",
    "    a = [a[j-1] for j in A]\n",
    "    b = [b[j-1] for j in A]\n",
    "    c = [c[j] for j in A]\n",
    "    M = len(A)\n",
    "\n",
    "    v = np.log(np.sum([(b[j+1]-b[j])*f_func(-np.abs(c[j])) \n",
    "                      for j in range(0,M-1)]))\n",
    "\n",
    "    return x-1, v"
   ]
  },
  {
   "cell_type": "code",
   "execution_count": 6,
   "metadata": {},
   "outputs": [],
   "source": [
    "def KG_Alg2(mu, S, lambda_):\n",
    "    M = S.shape[0]\n",
    "    L=[]\n",
    "    \n",
    "    for x in range(1,M):\n",
    "        L.append(KG_single(mu, S, lambda_, x))\n",
    "        \n",
    "    L.sort(key=lambda pair : pair[1], reverse=True)\n",
    "    return L[0]"
   ]
  },
  {
   "cell_type": "markdown",
   "metadata": {},
   "source": [
    "### Test Runs"
   ]
  },
  {
   "cell_type": "code",
   "execution_count": 7,
   "metadata": {},
   "outputs": [],
   "source": [
    "S = np.array([[0,  1,  2,  3,  4],\n",
    "              [5,  6,  7,  8,  9],\n",
    "              [10, 11, 12, 13, 14],\n",
    "              [15, 16, 17, 18, 19],\n",
    "              [11, 12, 13, 14, 15]])\n",
    "lambda_ = np.array([0.2, 0.1, 0.3, 0.12, 0.4])\n",
    "\n",
    "# a and b are vectors of dim M, and b has strictly increasing values\n",
    "M = S.shape[0] #M=5 in our example\n",
    "a=[0.12, 0.10, 0.11, 1.20, 0.0]\n",
    "b=[0.1,  0.31, 0.33, 0.42, 0.45]\n",
    "\n",
    "# M=7\n",
    "# a=list(np.random.uniform(size=M))\n",
    "# b=sorted(list(np.random.uniform(size=M)))"
   ]
  },
  {
   "cell_type": "code",
   "execution_count": 8,
   "metadata": {},
   "outputs": [
    {
     "name": "stdout",
     "output_type": "stream",
     "text": [
      "[-inf, -3.375000000000001, -0.49999999999999933, -12.111111111111114, 39.999999999999964, inf]\n",
      "[1, 4, 5]\n"
     ]
    }
   ],
   "source": [
    "c,A = algorithm_1(a,b)\n",
    "print(c)\n",
    "print(A)"
   ]
  },
  {
   "cell_type": "code",
   "execution_count": 9,
   "metadata": {},
   "outputs": [],
   "source": [
    "from nearest_correlation import nearcorr\n",
    "from scipy.stats import random_correlation\n",
    "\n",
    "np.random.seed(126)\n",
    "\n",
    "# G = np.array([[0.20,  0.10,  0.10,  0.15, 0.22],\n",
    "#               [0.10,  0.30, -0.11, -0.16, 0.12],\n",
    "#               [0.10, -0.11,  0.10, -0.17, 0.63],\n",
    "#               [0.15, -0.16, -0.17,  0.18, 0.51],\n",
    "#               [0.22,  0.12,  0.63,  0.51, 0.40]])\n",
    "\n",
    "g=7/sum([.5, .8, 1.2, 2.5, 1.7, 2.1, 2.2])\n",
    "G = np.round(random_correlation.rvs((g*.5, g*.8, g*1.2, \n",
    "                                     g*2.5, g*1.7, g*2.1, \n",
    "                                     g*2.2)), 3)\n",
    "\n",
    "\n",
    "S = nearcorr(G, tol=[], flag=0, max_iterations=1000,\n",
    "               n_pos_eig=0, weights=None, verbose=False,\n",
    "               except_on_too_many_iterations=True)\n",
    "M = S.shape[0]\n",
    "lambda_ = np.array([0.2, 1.1, 1.3, 0.12, 0.4, 0.3, 0.12])\n",
    "mu = np.array([0.2, 0.21, 0.92, 0.11, 0.7, 0.2, -0.1])"
   ]
  },
  {
   "cell_type": "code",
   "execution_count": 10,
   "metadata": {},
   "outputs": [
    {
     "name": "stdout",
     "output_type": "stream",
     "text": [
      "1: -2.2526178371099967\n",
      "2: -3.545497654948802\n",
      "3: -1.887239780817405\n",
      "4: -1.9574218935030208\n",
      "5: -1.5260580309321654\n",
      "6: -1.9096914131233804\n"
     ]
    },
    {
     "data": {
      "text/plain": [
       "(4, -1.5260580309321654)"
      ]
     },
     "execution_count": 10,
     "metadata": {},
     "output_type": "execute_result"
    }
   ],
   "source": [
    "KG_Alg(mu, S, lambda_)"
   ]
  },
  {
   "cell_type": "code",
   "execution_count": 11,
   "metadata": {},
   "outputs": [
    {
     "data": {
      "text/plain": [
       "(4, -1.5260580309321654)"
      ]
     },
     "execution_count": 11,
     "metadata": {},
     "output_type": "execute_result"
    }
   ],
   "source": [
    "KG_Alg2(mu, S, lambda_)"
   ]
  },
  {
   "cell_type": "markdown",
   "metadata": {},
   "source": [
    "## Update Functions"
   ]
  },
  {
   "cell_type": "markdown",
   "metadata": {},
   "source": [
    "##### Data:"
   ]
  },
  {
   "cell_type": "code",
   "execution_count": 12,
   "metadata": {},
   "outputs": [],
   "source": [
    "from nearest_correlation import nearcorr\n",
    "from scipy.stats import random_correlation\n",
    "\n",
    "np.random.seed(126)\n",
    "\n",
    "g =7/sum([.5, .8, 1.2, 2.5, 1.7, 2.1, 2.2])\n",
    "G = np.round(random_correlation.rvs((g*.5, g*.8, g*1.2, \n",
    "                                     g*2.5, g*1.7, g*2.1, \n",
    "                                     g*2.2)), 3)\n",
    "S = nearcorr(G, tol=[], flag=0, max_iterations=1000,\n",
    "               n_pos_eig=0, weights=None, verbose=False,\n",
    "               except_on_too_many_iterations=True)\n",
    "\n",
    "lambda_ = np.array([0.2, 1.1, 1.3, 0.12, 0.4, 0.3, 0.12])\n",
    "\n",
    "mu = np.array([0.2, 0.21, 0.92, 0.11, 0.7, 0.2, -0.1])\n",
    "\n",
    "y = 0.14\n",
    "\n",
    "#x indexing goes from 1 to M\n",
    "x = 4"
   ]
  },
  {
   "cell_type": "code",
   "execution_count": 13,
   "metadata": {},
   "outputs": [],
   "source": [
    "def update_mu_S(mu, S, lambda_, x, y):\n",
    "    # Adjust indexing to python lists\n",
    "    x = x-1\n",
    "    \n",
    "    # Get e_x\n",
    "    M = S.shape[0]\n",
    "    e_x = np.zeros([M,1])\n",
    "    e_x[x] = 1\n",
    "    \n",
    "    mu_1 = mu.reshape(M,1) + ((y-mu[x])/(lambda_[x]+S[x][x])*np.dot(S, e_x))\n",
    "    \n",
    "    S_1 = S - (1/(lambda_[x]*S[x][x]))*S.dot(e_x).dot(e_x.transpose()).dot(S)\n",
    "    \n",
    "    return mu_1, S_1"
   ]
  },
  {
   "cell_type": "code",
   "execution_count": null,
   "metadata": {},
   "outputs": [],
   "source": []
  },
  {
   "cell_type": "code",
   "execution_count": 14,
   "metadata": {},
   "outputs": [
    {
     "data": {
      "text/plain": [
       "2"
      ]
     },
     "execution_count": 14,
     "metadata": {},
     "output_type": "execute_result"
    }
   ],
   "source": [
    "import Levenshtein\n",
    "\n",
    "Levenshtein.distance('110','1111')"
   ]
  },
  {
   "cell_type": "code",
   "execution_count": 15,
   "metadata": {},
   "outputs": [],
   "source": [
    "import textdistance"
   ]
  },
  {
   "cell_type": "code",
   "execution_count": 16,
   "metadata": {},
   "outputs": [
    {
     "data": {
      "text/plain": [
       "1"
      ]
     },
     "execution_count": 16,
     "metadata": {},
     "output_type": "execute_result"
    }
   ],
   "source": [
    "textdistance.levenshtein('0111','1111')"
   ]
  },
  {
   "cell_type": "markdown",
   "metadata": {},
   "source": [
    "### Exponential Quadratic Kernel"
   ]
  },
  {
   "cell_type": "code",
   "execution_count": 131,
   "metadata": {},
   "outputs": [],
   "source": [
    "#Given data\n",
    "partition_list=[]\n",
    "\n",
    "#Elements of partition list\n",
    "p1={\"constraints\":{0:0, 1:0}}\n",
    "p2={\"constraints\":{0:0, 1:0, 2:0, 2:1}}\n",
    "p3={\"constraints\":{0:1, 1:0}}\n",
    "\n",
    "partition_list = [p1, p2, p3]\n",
    "\n",
    "# Tuning parameters\n",
    "s = 0.2\n",
    "l = 1.0"
   ]
  },
  {
   "cell_type": "code",
   "execution_count": 129,
   "metadata": {},
   "outputs": [],
   "source": [
    "m = len(partition_list)\n",
    "S = np.empty([m, m])\n"
   ]
  },
  {
   "cell_type": "code",
   "execution_count": null,
   "metadata": {},
   "outputs": [],
   "source": []
  },
  {
   "cell_type": "code",
   "execution_count": null,
   "metadata": {},
   "outputs": [],
   "source": []
  },
  {
   "cell_type": "code",
   "execution_count": null,
   "metadata": {},
   "outputs": [],
   "source": []
  },
  {
   "cell_type": "code",
   "execution_count": null,
   "metadata": {},
   "outputs": [],
   "source": []
  },
  {
   "cell_type": "code",
   "execution_count": null,
   "metadata": {},
   "outputs": [],
   "source": [
    "''.join(map(str, list(partition_list[2][\"constraints\"].values())))\n",
    "\n",
    "''.join([str(elem) for elem in constraints])"
   ]
  },
  {
   "cell_type": "code",
   "execution_count": null,
   "metadata": {},
   "outputs": [],
   "source": []
  },
  {
   "cell_type": "code",
   "execution_count": 143,
   "metadata": {},
   "outputs": [],
   "source": [
    "x = np.array([[('Rex', 9, 81.0), ('Fido', 3, 27.0)],\n",
    "             [('lal', 10, 71.0), ('iuaa', 3, 21.1)]],\n",
    "             dtype=[('name', 'U10'), ('age', 'i4'), ('weight', 'f4')])"
   ]
  },
  {
   "cell_type": "code",
   "execution_count": 145,
   "metadata": {},
   "outputs": [
    {
     "data": {
      "text/plain": [
       "array([[ 9,  3],\n",
       "       [10,  3]])"
      ]
     },
     "execution_count": 145,
     "metadata": {},
     "output_type": "execute_result"
    }
   ],
   "source": [
    "x['age']"
   ]
  },
  {
   "cell_type": "code",
   "execution_count": 142,
   "metadata": {},
   "outputs": [
    {
     "name": "stdout",
     "output_type": "stream",
     "text": [
      "[[('Rex', 9, 81.) ('Fido', 3, 27.)]]\n"
     ]
    }
   ],
   "source": [
    "print(x)"
   ]
  },
  {
   "cell_type": "code",
   "execution_count": null,
   "metadata": {},
   "outputs": [],
   "source": []
  },
  {
   "cell_type": "code",
   "execution_count": null,
   "metadata": {},
   "outputs": [],
   "source": []
  },
  {
   "cell_type": "code",
   "execution_count": null,
   "metadata": {},
   "outputs": [],
   "source": []
  },
  {
   "cell_type": "code",
   "execution_count": null,
   "metadata": {},
   "outputs": [],
   "source": []
  },
  {
   "cell_type": "code",
   "execution_count": null,
   "metadata": {},
   "outputs": [],
   "source": []
  },
  {
   "cell_type": "code",
   "execution_count": null,
   "metadata": {},
   "outputs": [],
   "source": []
  },
  {
   "cell_type": "code",
   "execution_count": null,
   "metadata": {},
   "outputs": [],
   "source": []
  },
  {
   "cell_type": "code",
   "execution_count": null,
   "metadata": {},
   "outputs": [],
   "source": []
  }
 ],
 "metadata": {
  "kernelspec": {
   "display_name": "6. Python 3.6: Insight Project",
   "language": "python",
   "name": "insight-prj"
  },
  "language_info": {
   "codemirror_mode": {
    "name": "ipython",
    "version": 3
   },
   "file_extension": ".py",
   "mimetype": "text/x-python",
   "name": "python",
   "nbconvert_exporter": "python",
   "pygments_lexer": "ipython3",
   "version": "3.6.10"
  }
 },
 "nbformat": 4,
 "nbformat_minor": 4
}
